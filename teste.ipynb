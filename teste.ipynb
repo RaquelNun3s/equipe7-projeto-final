{
 "cells": [
  {
   "cell_type": "code",
   "execution_count": 4,
   "metadata": {},
   "outputs": [],
   "source": [
    "from pyspark.sql import SparkSession\n",
    "from pyspark import SparkConf\n",
    "import os "
   ]
  },
  {
   "cell_type": "code",
   "execution_count": 5,
   "metadata": {},
   "outputs": [],
   "source": [
    "# Conectando com o Google Cloud Storage:\n",
    "ServiceAccount = r'C:\\Users\\quel-\\OneDrive\\Área de Trabalho\\CURSOS\\Curso - Python\\Atividades_aulas_aovivo\\Atividades\\Projeto_Individual\\striking-shadow-349020-c0b04aecfb6a.json'\n",
    "os.environ[\"GOOGLE_APPLICATION_CREDENTIALS\"] = ServiceAccount"
   ]
  },
  {
   "cell_type": "code",
   "execution_count": 6,
   "metadata": {},
   "outputs": [],
   "source": [
    "spark = (SparkSession.builder.master(\"local\")\n",
    "         .appName(\"projeto-individual\")\n",
    "         .config(\"spark.ui.port\", \"4050\")\n",
    "         .getOrCreate()\n",
    "         )"
   ]
  },
  {
   "cell_type": "code",
   "execution_count": null,
   "metadata": {},
   "outputs": [],
   "source": [
    "# Lendo os bancos de dados com o spark:\n",
    "df_"
   ]
  }
 ],
 "metadata": {
  "interpreter": {
   "hash": "f3fbd86934369ee33c8f5360e019dc6ae3ef65c13f596d802479fdbd6eac437f"
  },
  "kernelspec": {
   "display_name": "Python 3.9.1 64-bit",
   "language": "python",
   "name": "python3"
  },
  "language_info": {
   "codemirror_mode": {
    "name": "ipython",
    "version": 3
   },
   "file_extension": ".py",
   "mimetype": "text/x-python",
   "name": "python",
   "nbconvert_exporter": "python",
   "pygments_lexer": "ipython3",
   "version": "3.9.1"
  },
  "orig_nbformat": 4
 },
 "nbformat": 4,
 "nbformat_minor": 2
}
